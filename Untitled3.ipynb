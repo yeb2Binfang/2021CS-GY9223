{
  "nbformat": 4,
  "nbformat_minor": 0,
  "metadata": {
    "colab": {
      "name": "Untitled3.ipynb",
      "provenance": [],
      "authorship_tag": "ABX9TyNutxD3++ZUZXJqdkXQ/11t",
      "include_colab_link": true
    },
    "kernelspec": {
      "name": "python3",
      "display_name": "Python 3"
    },
    "language_info": {
      "name": "python"
    }
  },
  "cells": [
    {
      "cell_type": "markdown",
      "metadata": {
        "id": "view-in-github",
        "colab_type": "text"
      },
      "source": [
        "<a href=\"https://colab.research.google.com/github/yeb2Binfang/2021CS-GY9223/blob/main/Untitled3.ipynb\" target=\"_parent\"><img src=\"https://colab.research.google.com/assets/colab-badge.svg\" alt=\"Open In Colab\"/></a>"
      ]
    },
    {
      "cell_type": "markdown",
      "metadata": {
        "id": "lahlilVxl2jI"
      },
      "source": [
        "# Lab 2: Adversarial Attacks on Deep Neural Networks\n",
        "\n",
        "## Overview\n",
        "In this lab, you will investigate adversarial perturbation attacks on Deep Neural Networks using the MNIST digits dataset as a benchmark. You will then evaluate adversarial retraining as a defense against adversarial perturbations.\n",
        "\n",
        "## Dataset\n",
        "The fashion_MNIST dataset is a commonly used “toy” benchmarks for machine learning. It contains 28X28 grayscale images with a label from 10 classes, along with the associated labels. The dataset is available as part of the tensorflow package, which you will be using extensively in this lab.\n",
        "\n",
        "## What You Have to Do\n",
        "The sample Google Colab notebook\n",
        "https://colab.research.google.com/github/tensorflow/docs/blob/master/site/en/tutorials/quickstart/beginner.ipynb#scrollTo=h3IKyzTCDNGo\n",
        "that implements a 2-layer DNN for MNIST digit classification. The DNN has a 784 (28x28) dimensional input, a 10-dimensional output (prediction probabilities for each of the 10 classes) and one hidden layer with 300 hidden neurons and ReLU activations. You will implement your attacks and defenses on this baseline DNN.\n",
        "\n",
        "* **FGSM based untargeted attacks**: Your first goal is to implement FGSM based untargeted attacks using images from the test set on the baseline DNN. That is, your goal is to adversarially perturb each image in the test set using the following values of parameter $\\epsilon$ = {1, 5, 10, 20, 30, 40, 50}/255 assuming pixel values are normalized in the range [0,1]. Report the success rate of your attack, i.e., the fraction of test images that were\n",
        "correctly classified by the baseline DNN that are mis-classified after adversarial perturbation, as a function of $\\epsilon$.\n",
        "\n",
        "* **FGSM based targeted attacks**: Next, you will repeat Step 1 above, except this time perform targeted attacks where digit i is classified as (i+1)%10 on the baseline DNN. (Here, i refers to the true ground-truth label of the test images, and you can assume that the attacker has access to these labels.) As before, use the following values of the parameter $\\epsilon$ = {1, 5, 10, 20, 30, 40, 50}/255. Report the attack’s success rate as a function of parameter $\\epsilon$, where success rate is defined as the fraction of test images that were correctly classified by the baseline DNN that are mis-classified after adversarial perturbations with label (i+1)%10.\n",
        "\n",
        "* **Adversarial Retraining against Untargeted FGSM Attacks**: For this step, you can assume $\\epsilon$ = 10/255 throughout. To defend against adversarial perturbations, the defender adversarially perturbs each image in her training set using the attacker’s strategy in Step 1. She then appends the adversarially perturbed images to her training set, but using their correct labels. Then, the defender retrains the baseline DNN with a new training dataset containing both images from the original training dataset and the new adversarially perturbed images. We call the new DNN the adversarially retrained DNN.\n",
        "\n",
        "  *  Report the classification accuracy of the adversarially retrained DNN on the original test dataset that contains only clean inputs.\n",
        "  * Is the adversarially retrained DNN robust against adversarial perturbations?\n",
        "Implement FGSM based untargeted attacks using images from the clean test set on the adversarially retrained DNN. Report the success rate of your attack.\n",
        "\n",
        "* **Challenge**: Finally, you will all compete in an adversarial attack challenge. You are free to use any adversarial attack detection procedure to implement untargeted attacks on a 2-layer baseline DNN. You are welcome to implement IFGSM or PGD attacks for example. For this problem you will simply submit your adversarially perturbed test images from the Fashion_MNIST dataset. The constraint is that the Root Mean Square Error averaged over all the images in the the original and modified datasets should be less than 5/255. assuming images are normalized to lie between [0,1].\n",
        "\n",
        "## What to Submit\n",
        "* Colab Notebook and its pdf format.\n",
        "* Please submit 1 Colab Notebook and 1 PDF file without zipping.\n",
        "* For the Challenge, please submit a file containing your adversarially modified test images"
      ]
    },
    {
      "cell_type": "markdown",
      "metadata": {
        "id": "G-eeA-viL3pg"
      },
      "source": [
        "## Import packages and process data"
      ]
    },
    {
      "cell_type": "code",
      "metadata": {
        "id": "Imrn7KRCL26w"
      },
      "source": [
        "import tensorflow as tf\n",
        "import numpy as np\n",
        "import matplotlib.pyplot as plt\n",
        "import seaborn as sns\n",
        "from sklearn.metrics import confusion_matrix\n",
        "from numpy import newaxis"
      ],
      "execution_count": 1,
      "outputs": []
    },
    {
      "cell_type": "code",
      "metadata": {
        "id": "0Is-5wOfMGsZ"
      },
      "source": [
        "mnist = tf.keras.datasets.mnist\n",
        "\n",
        "(x_train, y_train), (x_test, y_test) = mnist.load_data()\n",
        "x_train, x_test = x_train / 255.0, x_test / 255.0"
      ],
      "execution_count": 2,
      "outputs": []
    },
    {
      "cell_type": "code",
      "metadata": {
        "colab": {
          "base_uri": "https://localhost:8080/"
        },
        "id": "KPTTfuPuMKAY",
        "outputId": "30b770de-0d31-4afa-b387-d2c5ce636dcf"
      },
      "source": [
        "print(x_train.shape)\n",
        "print(x_test.shape)"
      ],
      "execution_count": 3,
      "outputs": [
        {
          "output_type": "stream",
          "name": "stdout",
          "text": [
            "(60000, 28, 28)\n",
            "(10000, 28, 28)\n"
          ]
        }
      ]
    },
    {
      "cell_type": "markdown",
      "metadata": {
        "id": "nJHYkAnWl8ka"
      },
      "source": [
        "We will visualize the data"
      ]
    },
    {
      "cell_type": "code",
      "metadata": {
        "colab": {
          "base_uri": "https://localhost:8080/",
          "height": 482
        },
        "id": "mxR4-j_3MOI6",
        "outputId": "f7cf6a03-12d8-4d37-d245-e1eac2393c9e"
      },
      "source": [
        "figure = plt.figure(figsize=(10,8))\n",
        "cols, rows = 3,3\n",
        "for i in range(1, cols*rows+1):\n",
        "  index = np.random.randint(x_train.shape[0], size=1)\n",
        "  img, label = (x_train[index], y_train[index])\n",
        "  figure.add_subplot(rows, cols, i)\n",
        "  plt.title(\"true label: {}\".format(label))\n",
        "  plt.axis(\"off\")\n",
        "  plt.imshow(img.squeeze(), cmap=\"gray\")\n",
        "plt.show()"
      ],
      "execution_count": 10,
      "outputs": [
        {
          "output_type": "display_data",
          "data": {
            "image/png": "[encoded data removed]",
            "text/plain": [
              "<Figure size 720x576 with 9 Axes>"
            ]
          },
          "metadata": {
            "needs_background": "light"
          }
        }
      ]
    },
    {
      "cell_type": "markdown",
      "metadata": {
        "id": "_205_JGll-HC"
      },
      "source": [
        "## Baseline DNN model\n",
        "The DNN has a 784 (28x28) dimensional input, a 10-dimensional output (prediction probabilities for each of the 10 classes) and one hidden layer with 300 hidden neurons and ReLU activations."
      ]
    },
    {
      "cell_type": "code",
      "metadata": {
        "id": "X44oL9hXOCeK"
      },
      "source": [
        "DNN = tf.keras.models.Sequential([\n",
        "  tf.keras.layers.Flatten(input_shape=(28, 28)),\n",
        "  tf.keras.layers.Dense(300, activation='relu'),\n",
        "  tf.keras.layers.Dense(10)                                 \n",
        "])"
      ],
      "execution_count": 4,
      "outputs": []
    },
    {
      "cell_type": "code",
      "metadata": {
        "id": "qJhCEeFMPAzC"
      },
      "source": [
        "loss_fn = tf.keras.losses.SparseCategoricalCrossentropy(from_logits=True)"
      ],
      "execution_count": 5,
      "outputs": []
    },
    {
      "cell_type": "code",
      "metadata": {
        "id": "ECmpMGmXQNTC"
      },
      "source": [
        "DNN.compile(optimizer='adam', loss=loss_fn,metrics=['accuracy'])"
      ],
      "execution_count": 6,
      "outputs": []
    },
    {
      "cell_type": "code",
      "metadata": {
        "colab": {
          "base_uri": "https://localhost:8080/"
        },
        "id": "CHXYZB5CQYvA",
        "outputId": "f1f82799-a361-4c2b-e6ba-6e650d86e4ec"
      },
      "source": [
        "DNN.fit(x_train, y_train, epochs=5)"
      ],
      "execution_count": 7,
      "outputs": [
        {
          "output_type": "stream",
          "name": "stdout",
          "text": [
            "Epoch 1/5\n",
            "1875/1875 [==============================] - 7s 4ms/step - loss: 0.2204 - accuracy: 0.9361\n",
            "Epoch 2/5\n",
            "1875/1875 [==============================] - 7s 4ms/step - loss: 0.0917 - accuracy: 0.9724\n",
            "Epoch 3/5\n",
            "1875/1875 [==============================] - 7s 4ms/step - loss: 0.0608 - accuracy: 0.9816\n",
            "Epoch 4/5\n",
            "1875/1875 [==============================] - 7s 4ms/step - loss: 0.0437 - accuracy: 0.9860\n",
            "Epoch 5/5\n",
            "1875/1875 [==============================] - 7s 4ms/step - loss: 0.0313 - accuracy: 0.9900\n"
          ]
        },
        {
          "output_type": "execute_result",
          "data": {
            "text/plain": [
              "<keras.callbacks.History at 0x7f41a3191490>"
            ]
          },
          "metadata": {},
          "execution_count": 7
        }
      ]
    },
    {
      "cell_type": "code",
      "metadata": {
        "colab": {
          "base_uri": "https://localhost:8080/"
        },
        "id": "kU5Hp4ZZQdyp",
        "outputId": "657fc79e-7a93-4054-9c52-e2c22e9f98e4"
      },
      "source": [
        "res = DNN.evaluate(x_test,  y_test, verbose=2)"
      ],
      "execution_count": 8,
      "outputs": [
        {
          "output_type": "stream",
          "name": "stdout",
          "text": [
            "313/313 - 1s - loss: 0.0692 - accuracy: 0.9792 - 677ms/epoch - 2ms/step\n"
          ]
        }
      ]
    },
    {
      "cell_type": "code",
      "metadata": {
        "id": "90fzuxkXRKvp"
      },
      "source": [
        "def correct_classified(model, X, Y):\n",
        "  correct_classified_img = []\n",
        "  correct_classified_img_label = []\n",
        "  count = 0\n",
        "  \n",
        "  for i, img in enumerate(X):\n",
        "    img = img[newaxis, ...]\n",
        "    pred = model(img)\n",
        "    pred = tf.nn.softmax(pred)\n",
        "    pred = tf.math.argmax(pred, axis=1).numpy()\n",
        "    if pred == Y[i]:\n",
        "      count+=1\n",
        "      correct_classified_img.append(tf.convert_to_tensor(img, dtype=tf.float32))\n",
        "      correct_classified_img_label.append(tf.convert_to_tensor(Y[i]))\n",
        "  return count, correct_classified_img, correct_classified_img_label"
      ],
      "execution_count": 30,
      "outputs": []
    },
    {
      "cell_type": "markdown",
      "metadata": {
        "id": "xZOGv7aVmdSs"
      },
      "source": [
        "## FGSM based untargeted attacks\n",
        "\n",
        "Aiming to fool the neural network and output a label different than the original one. Non-target FGS method is expresed as below\n",
        "$$\n",
        "x'\\leftarrow clip(x+\\epsilon sign(\\triangledown \\mathcal{l}_{F,y^*}(x)))\n",
        "$$\n",
        "\n",
        "Here, $\\epsilon$ is a small constraint scalar, $\\mathcal{l}$ is the loss function"
      ]
    },
    {
      "cell_type": "code",
      "metadata": {
        "id": "Q63xXK01XU6g"
      },
      "source": [
        "def generate_perturb_untarget_img(model, X, Y, epislon):\n",
        "  X = tf.convert_to_tensor(X, dtype=tf.float32)\n",
        "  x_perturb = []\n",
        "    \n",
        "  x_tensor = tf.convert_to_tensor(X, dtype=tf.float32)\n",
        "  with tf.GradientTape() as tape:\n",
        "    tape.watch(X)\n",
        "    pred = model(X)\n",
        "    loss = loss_fn(Y, pred)\n",
        "  grad = tape.gradient(loss, X)\n",
        "  grad_sign = tf.sign(grad)\n",
        "  x_perturb.append(tf.clip_by_value((X + epislon * grad_sign), clip_value_min = 0, clip_value_max = 1))\n",
        "  return x_perturb"
      ],
      "execution_count": 39,
      "outputs": []
    },
    {
      "cell_type": "code",
      "metadata": {
        "id": "Z9fcil-QfXd4"
      },
      "source": [
        "def generate_perturb_untarget_correct_img(model, X, Y, epislon):\n",
        "  x_perturb = []\n",
        "  for i, img in enumerate(X):\n",
        "    img = tf.convert_to_tensor(img, dtype=tf.float32)\n",
        "         \n",
        "    x_tensor = tf.convert_to_tensor(img, dtype=tf.float32)\n",
        "    with tf.GradientTape() as tape:\n",
        "      tape.watch(img)\n",
        "      pred = model(img)\n",
        "      loss = loss_fn(Y[i], pred)\n",
        "    grad = tape.gradient(loss, img)\n",
        "    grad_sign = tf.sign(grad)\n",
        "    x_perturb.append(tf.clip_by_value((img + epislon * grad_sign), clip_value_min = 0, clip_value_max = 1))\n",
        "  return x_perturb"
      ],
      "execution_count": 54,
      "outputs": []
    },
    {
      "cell_type": "code",
      "metadata": {
        "id": "nLrhykMCjhgd"
      },
      "source": [
        "def cal_Perturb_classify_acc(model, perturbImg, Y):\n",
        "  res = model.evaluate(perturbImg,  Y, verbose=2)\n",
        "  return res"
      ],
      "execution_count": 78,
      "outputs": []
    },
    {
      "cell_type": "code",
      "metadata": {
        "id": "DV2WUVlLZo4u"
      },
      "source": [
        "def cal_Perturb_correct_classify_acc(model, perturbImg, Y):\n",
        "  count = 0\n",
        "  \n",
        "  for i, img in enumerate(perturbImg):\n",
        "    # img = img[newaxis, ...]\n",
        "    pred = model(img)\n",
        "    pred = tf.nn.softmax(pred)\n",
        "    pred = tf.math.argmax(pred, axis=1).numpy()\n",
        "    if pred == Y[i]:\n",
        "      count+=1\n",
        "  return count/len(Y)\n",
        "      "
      ],
      "execution_count": 77,
      "outputs": []
    },
    {
      "cell_type": "code",
      "metadata": {
        "colab": {
          "base_uri": "https://localhost:8080/"
        },
        "id": "Vy9GdJg2apBH",
        "outputId": "70d6ea54-5c81-45c2-e428-d7c60404d7a7"
      },
      "source": [
        "epsilons = [1/255, 5/255, 10/255, 20/255, 30/255, 40/255, 50/255]\n",
        "acc_untarget = []\n",
        "success_untarget_attack_rate = []\n",
        "for eps in epsilons:\n",
        "  x_perturb = generate_perturb_untarget_img(DNN, x_test, y_test, eps)\n",
        "  acc = cal_Perturb_classify_acc(DNN, x_perturb, y_test)\n",
        "  acc_untarget.append(acc[1])\n",
        "  numOfCorrectClassified, correct_classified_img, correct_classified_img_label = correct_classified(DNN, x_test, y_test)\n",
        "  x_perturb_correct_classified = generate_perturb_untarget_correct_img(DNN, correct_classified_img, correct_classified_img_label, eps)\n",
        "  acc_perturb_classified = cal_Perturb_correct_classify_acc(DNN, x_perturb_correct_classified, correct_classified_img_label)\n",
        "  success_untarget_attack_rate.append(1-acc_perturb_classified)"
      ],
      "execution_count": 79,
      "outputs": [
        {
          "output_type": "stream",
          "name": "stdout",
          "text": [
            "313/313 - 1s - loss: 0.0914 - accuracy: 0.9723 - 634ms/epoch - 2ms/step\n",
            "313/313 - 1s - loss: 0.2609 - accuracy: 0.9199 - 679ms/epoch - 2ms/step\n",
            "313/313 - 1s - loss: 0.8267 - accuracy: 0.7567 - 682ms/epoch - 2ms/step\n",
            "313/313 - 1s - loss: 3.6999 - accuracy: 0.3129 - 695ms/epoch - 2ms/step\n",
            "313/313 - 1s - loss: 7.4784 - accuracy: 0.1163 - 634ms/epoch - 2ms/step\n",
            "313/313 - 1s - loss: 11.0804 - accuracy: 0.0606 - 638ms/epoch - 2ms/step\n",
            "313/313 - 1s - loss: 14.4461 - accuracy: 0.0300 - 628ms/epoch - 2ms/step\n"
          ]
        }
      ]
    },
    {
      "cell_type": "code",
      "metadata": {
        "colab": {
          "base_uri": "https://localhost:8080/",
          "height": 296
        },
        "id": "z--rRIKSk4AY",
        "outputId": "81d04e0e-b964-4c28-afd6-5fcad4822484"
      },
      "source": [
        "plt.plot(epsilons,acc_untarget,marker='x')\n",
        "plt.plot(epsilons,success_untarget_attack_rate,marker='*')\n",
        "plt.xlabel('epsilon')\n",
        "plt.ylabel('rate')\n",
        "plt.legend(['DNN accuracy','success untarget attack rate'])"
      ],
      "execution_count": 81,
      "outputs": [
        {
          "output_type": "execute_result",
          "data": {
            "text/plain": [
              "<matplotlib.legend.Legend at 0x7f419a09ff90>"
            ]
          },
          "metadata": {},
          "execution_count": 81
        },
        {
          "output_type": "display_data",
          "data": {
            "image/png": "[encoded data removed]",
            "text/plain": [
              "<Figure size 432x288 with 1 Axes>"
            ]
          },
          "metadata": {
            "needs_background": "light"
          }
        }
      ]
    },
    {
      "cell_type": "markdown",
      "metadata": {
        "id": "2m3gWgXqmi2L"
      },
      "source": [
        "## FGSM based targeted attacks\n",
        "\n",
        "Intentionally misleading the network to output a specific label designed by the attacker. The formula is shown below\n",
        "$$\n",
        "x'\\leftarrow clip(x-\\epsilon sign(\\triangledown \\mathcal{l}_{F,y'}(x)))\n",
        "$$\n",
        "\n",
        "Here, $\\epsilon$ is a small constraint scalar, $\\mathcal{l}$ is the loss function"
      ]
    },
    {
      "cell_type": "code",
      "metadata": {
        "id": "trW_UnCkb_6l"
      },
      "source": [
        "def generate_perturb_target_img(model, X, Y, epislon):\n",
        "  \n",
        "  x_perturb = []\n",
        "  \n",
        "   \n",
        "  x_tensor = tf.convert_to_tensor(X, dtype=tf.float32)\n",
        "  with tf.GradientTape() as tape:\n",
        "    tape.watch(x_tensor)\n",
        "    pred = model(x_tensor)\n",
        "    loss = loss_fn(Y, pred)\n",
        "  grad = tape.gradient(loss, x_tensor)\n",
        "  grad_sign = tf.sign(grad)\n",
        "  x_perturb.append(tf.clip_by_value((x_tensor - epislon * grad_sign), clip_value_min = 0, clip_value_max = 1))\n",
        "  return x_perturb, Y"
      ],
      "execution_count": 162,
      "outputs": []
    },
    {
      "cell_type": "code",
      "metadata": {
        "id": "besuVUKUnb3T"
      },
      "source": [
        "y_test_mod = []\n",
        "for i in y_test:\n",
        "  y_test_mod.append((i+1)%10)\n",
        "x_perturb1, Y1 = generate_perturb_target_img(DNN, x_test, y_test_mod, 1/255)"
      ],
      "execution_count": 177,
      "outputs": []
    },
    {
      "cell_type": "code",
      "metadata": {
        "colab": {
          "base_uri": "https://localhost:8080/"
        },
        "id": "yhKZVk-pnpRy",
        "outputId": "fc381260-6b5b-44af-c99b-b99e0f4086a3"
      },
      "source": [
        "acc_try = cal_Perturb_classify_acc1(DNN, x_perturb1, y_test)"
      ],
      "execution_count": 181,
      "outputs": [
        {
          "output_type": "stream",
          "name": "stdout",
          "text": [
            "313/313 - 1s - loss: 15.7423 - accuracy: 0.0063 - 708ms/epoch - 2ms/step\n"
          ]
        }
      ]
    },
    {
      "cell_type": "code",
      "metadata": {
        "id": "FePnRllsrUPg"
      },
      "source": [
        ""
      ],
      "execution_count": null,
      "outputs": []
    },
    {
      "cell_type": "code",
      "metadata": {
        "id": "RXFlVe7hrV8z"
      },
      "source": [
        "def cal_Perturb_classify_acc1(model, perturbImg, Y):\n",
        "  res = model.evaluate(perturbImg,  Y, verbose=2)\n",
        "  return res"
      ],
      "execution_count": 178,
      "outputs": []
    },
    {
      "cell_type": "code",
      "metadata": {
        "id": "sjwE5KKys8jX"
      },
      "source": [
        "def cal_Perturb_correct_classify_acc1(model, perturbImg, Y):\n",
        "  count = 0\n",
        "  \n",
        "  for i, img in enumerate(perturbImg):\n",
        "    # img = img[newaxis, ...]\n",
        "    pred = model(img)\n",
        "    pred = tf.nn.softmax(pred)\n",
        "    pred = tf.math.argmax(pred, axis=1).numpy()\n",
        "    if pred == Y[i]:\n",
        "      count+=1\n",
        "  return count/len(Y), pred, Y"
      ],
      "execution_count": 171,
      "outputs": []
    },
    {
      "cell_type": "code",
      "metadata": {
        "id": "ntwwtq06tRZr"
      },
      "source": [
        "numOfCorrectClassified, correct_classified_img, correct_classified_img_label = correct_classified(DNN, x_perturb1[0], y_test)"
      ],
      "execution_count": null,
      "outputs": []
    },
    {
      "cell_type": "code",
      "metadata": {
        "id": "CwlmZd2-ugFj"
      },
      "source": [
        ""
      ],
      "execution_count": null,
      "outputs": []
    }
  ]
}